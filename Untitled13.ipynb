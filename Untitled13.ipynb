{
  "nbformat": 4,
  "nbformat_minor": 0,
  "metadata": {
    "colab": {
      "provenance": [],
      "authorship_tag": "ABX9TyP/Fs4TLuYfo6PlWcqFGnUN",
      "include_colab_link": true
    },
    "kernelspec": {
      "name": "python3",
      "display_name": "Python 3"
    },
    "language_info": {
      "name": "python"
    }
  },
  "cells": [
    {
      "cell_type": "markdown",
      "metadata": {
        "id": "view-in-github",
        "colab_type": "text"
      },
      "source": [
        "<a href=\"https://colab.research.google.com/github/snehapranathi21/Data-Cleaning/blob/main/Untitled13.ipynb\" target=\"_parent\"><img src=\"https://colab.research.google.com/assets/colab-badge.svg\" alt=\"Open In Colab\"/></a>"
      ]
    },
    {
      "cell_type": "code",
      "execution_count": null,
      "metadata": {
        "colab": {
          "base_uri": "https://localhost:8080/"
        },
        "id": "JzQPOLI9H216",
        "outputId": "e9ec0649-94f4-43a6-8828-0e9588bb64a8"
      },
      "outputs": [
        {
          "output_type": "stream",
          "name": "stdout",
          "text": [
            "     Name  Age    Address Qualification\n",
            "0     jai   27      Delhi           Msc\n",
            "1  princi   24     Kanpur            MA\n",
            "2  Gaurav   22  Allahabad           MCA\n",
            "3     Anu   32    Kannauj           Phd \n",
            "\n",
            "      Name  Age    Address Qualification\n",
            "4    Abhi   17     Nagpur         Btech\n",
            "5   Ayush   14     Kanpur           B.A\n",
            "6  Dhiraj   12  Allahabad          Bcom\n",
            "7  hitesh   52    Kannauj        B.hons\n",
            "     Name  Age    Address Qualification\n",
            "0     jai   27      Delhi           Msc\n",
            "1  princi   24     Kanpur            MA\n",
            "2  Gaurav   22  Allahabad           MCA\n",
            "3     Anu   32    Kannauj           Phd\n",
            "4    Abhi   17     Nagpur         Btech\n",
            "5   Ayush   14     Kanpur           B.A\n",
            "6  Dhiraj   12  Allahabad          Bcom\n",
            "7  hitesh   52    Kannauj        B.hons\n"
          ]
        }
      ],
      "source": [
        "import pandas as pd\n",
        "data1={'Name':['jai','princi','Gaurav','Anu'],'Age':[27,24,22,32],'Address':['Delhi','Kanpur','Allahabad','Kannauj'],'Qualification':['Msc','MA','MCA','Phd']}\n",
        "data2={'Name':['Abhi','Ayush','Dhiraj','hitesh'],'Age':[17,14,12,52],'Address':['Nagpur','Kanpur','Allahabad','Kannauj'],'Qualification':['Btech','B.A','Bcom','B.hons']}\n",
        "df=pd.DataFrame(data1,index=[0,1,2,3])\n",
        "df1=pd.DataFrame(data2,index=[4,5,6,7])\n",
        "print(df,\"\\n\\n\",df1)\n",
        "res=pd.concat([df,df1])\n",
        "print(res)\n",
        "\n"
      ]
    },
    {
      "cell_type": "code",
      "source": [
        "data1={'Name':['Jai','Princi','Gaurav','Anuj'],'Age':[27,24,22,32],'Address':['Delhi','Kanpur','Allahabad','Kannauj'],'Qualification':['Msc','MA','MCA','Phd']}\n",
        "data2={'Name':['Abhi','Ayush','Dhiraj','Hitesh'],'Age':[17,14,12,52],'Address':['Nagpur','Kanpur','Allahabad','Kannauj'],'Qualification':['Btech','B.A','Bcom','B.hons']}\n",
        "df=pd.DataFrame(data1,index=[0,1,2,3])\n",
        "df1=pd.DataFrame(data2,index=[2,3,6,7])\n",
        "print(df,\"\\n\\n\",df1)\n",
        "res=pd.concat([df,df1],axis=1,join='inner')\n",
        "print(res)\n"
      ],
      "metadata": {
        "colab": {
          "base_uri": "https://localhost:8080/"
        },
        "id": "DK8ZiHQlNBTh",
        "outputId": "cbee24f9-50a4-43c9-e472-f1f730d3c7c0"
      },
      "execution_count": null,
      "outputs": [
        {
          "output_type": "stream",
          "name": "stdout",
          "text": [
            "     Name  Age    Address Qualification\n",
            "0     Jai   27      Delhi           Msc\n",
            "1  Princi   24     Kanpur            MA\n",
            "2  Gaurav   22  Allahabad           MCA\n",
            "3    Anuj   32    Kannauj           Phd \n",
            "\n",
            "      Name  Age    Address Qualification\n",
            "2    Abhi   17     Nagpur         Btech\n",
            "3   Ayush   14     Kanpur           B.A\n",
            "6  Dhiraj   12  Allahabad          Bcom\n",
            "7  Hitesh   52    Kannauj        B.hons\n",
            "     Name  Age    Address Qualification   Name  Age Address Qualification\n",
            "2  Gaurav   22  Allahabad           MCA   Abhi   17  Nagpur         Btech\n",
            "3    Anuj   32    Kannauj           Phd  Ayush   14  Kanpur           B.A\n"
          ]
        }
      ]
    },
    {
      "cell_type": "code",
      "source": [
        "data1={'Name':['Jai','Princi','Gaurav','Anuj'],'Age':[27,24,22,32],'Address':['Delhi','Kanpur','Allahabad','Kannauj'],'Qualification':['Msc','MA','MCA','Phd']}\n",
        "data2={'Name':['Abhi','Ayush','Dhiraj','Hitesh'],'Age':[17,14,12,52],'Address':['Nagpur','Kanpur','Allahabad','Kannauj'],'Qualification':['Btech','B.A','Bcom','B.hons']}\n",
        "df=pd.DataFrame(data1,index=[0,1,2,3])\n",
        "df1=pd.DataFrame(data2,index=[2,3,6,7])\n",
        "print(df,\"\\n\\n\",df1)\n",
        "res=pd.concat([df,df1],ignore_index=True)\n",
        "print(res)"
      ],
      "metadata": {
        "colab": {
          "base_uri": "https://localhost:8080/"
        },
        "id": "XDJcmE5yQolF",
        "outputId": "ddfcc9a0-7cb3-4731-feae-bf3e63e54bc9"
      },
      "execution_count": null,
      "outputs": [
        {
          "output_type": "stream",
          "name": "stdout",
          "text": [
            "     Name  Age    Address Qualification\n",
            "0     Jai   27      Delhi           Msc\n",
            "1  Princi   24     Kanpur            MA\n",
            "2  Gaurav   22  Allahabad           MCA\n",
            "3    Anuj   32    Kannauj           Phd \n",
            "\n",
            "      Name  Age    Address Qualification\n",
            "2    Abhi   17     Nagpur         Btech\n",
            "3   Ayush   14     Kanpur           B.A\n",
            "6  Dhiraj   12  Allahabad          Bcom\n",
            "7  Hitesh   52    Kannauj        B.hons\n",
            "     Name  Age    Address Qualification\n",
            "0     Jai   27      Delhi           Msc\n",
            "1  Princi   24     Kanpur            MA\n",
            "2  Gaurav   22  Allahabad           MCA\n",
            "3    Anuj   32    Kannauj           Phd\n",
            "4    Abhi   17     Nagpur         Btech\n",
            "5   Ayush   14     Kanpur           B.A\n",
            "6  Dhiraj   12  Allahabad          Bcom\n",
            "7  Hitesh   52    Kannauj        B.hons\n"
          ]
        }
      ]
    },
    {
      "cell_type": "code",
      "source": [
        "import pandas as pd\n",
        "data1={'Name':['Jai','Princi','Gaurav','Anuj'],'Age':[27,24,22,32],'Address':['Delhi','Kanpur','Allahabad','Kannauj'],'Qualification':['Msc','MA','MCA','Phd']}\n",
        "df=pd.DataFrame(data1,index=[0,1,2,3])\n",
        "s1=pd.Series([1000,2000,3000,4000],name='Salary')\n",
        "print(df,\"\\n\\n\",s1)\n",
        "res=pd.concat([df,s1],axis=1)\n",
        "print(res)"
      ],
      "metadata": {
        "colab": {
          "base_uri": "https://localhost:8080/"
        },
        "id": "LybUzaDZScxx",
        "outputId": "917bc58b-18a9-411b-f9e7-32544eb2858c"
      },
      "execution_count": null,
      "outputs": [
        {
          "output_type": "stream",
          "name": "stdout",
          "text": [
            "     Name  Age    Address Qualification\n",
            "0     Jai   27      Delhi           Msc\n",
            "1  Princi   24     Kanpur            MA\n",
            "2  Gaurav   22  Allahabad           MCA\n",
            "3    Anuj   32    Kannauj           Phd \n",
            "\n",
            " 0    1000\n",
            "1    2000\n",
            "2    3000\n",
            "3    4000\n",
            "Name: Salary, dtype: int64\n",
            "     Name  Age    Address Qualification  Salary\n",
            "0     Jai   27      Delhi           Msc    1000\n",
            "1  Princi   24     Kanpur            MA    2000\n",
            "2  Gaurav   22  Allahabad           MCA    3000\n",
            "3    Anuj   32    Kannauj           Phd    4000\n"
          ]
        }
      ]
    },
    {
      "cell_type": "code",
      "source": [
        "import pandas as pd\n",
        "data1={'key':['k0','k1','k2','k3'],'Name':['jai','Princi','Gaurav','Anuj'],'Age':[27,24,22,32]}\n",
        "data2={'key':['k0','k1','k2','k3'],'Address':['Delhi','Kanpur','Allahabad','Kannauj'],'Qualification':['Btech','B.A','Bcom','B.hons']}\n",
        "df=pd.DataFrame(data1)\n",
        "df1=pd.DataFrame(data2)\n",
        "print(df,\"\\n\\n\",df1)\n",
        "res=pd.merge(df,df1,on='key')\n",
        "print(res)"
      ],
      "metadata": {
        "colab": {
          "base_uri": "https://localhost:8080/"
        },
        "id": "xXdZCdq7UWsC",
        "outputId": "d8ceb2f4-1958-4674-d9e8-01ef74dc238a"
      },
      "execution_count": null,
      "outputs": [
        {
          "output_type": "stream",
          "name": "stdout",
          "text": [
            "  key    Name  Age\n",
            "0  k0     jai   27\n",
            "1  k1  Princi   24\n",
            "2  k2  Gaurav   22\n",
            "3  k3    Anuj   32 \n",
            "\n",
            "   key    Address Qualification\n",
            "0  k0      Delhi         Btech\n",
            "1  k1     Kanpur           B.A\n",
            "2  k2  Allahabad          Bcom\n",
            "3  k3    Kannauj        B.hons\n",
            "  key    Name  Age    Address Qualification\n",
            "0  k0     jai   27      Delhi         Btech\n",
            "1  k1  Princi   24     Kanpur           B.A\n",
            "2  k2  Gaurav   22  Allahabad          Bcom\n",
            "3  k3    Anuj   32    Kannauj        B.hons\n"
          ]
        }
      ]
    },
    {
      "cell_type": "code",
      "source": [],
      "metadata": {
        "id": "WsSZi-GTZT54"
      },
      "execution_count": null,
      "outputs": []
    }
  ]
}